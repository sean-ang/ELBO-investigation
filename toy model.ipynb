{
 "cells": [
  {
   "cell_type": "markdown",
   "id": "eb5526e9-df29-4e7a-b424-9e50a95917c6",
   "metadata": {},
   "source": [
    "Libraries"
   ]
  },
  {
   "cell_type": "code",
   "execution_count": 9,
   "id": "c4224d32-41be-4cbf-806f-a6082fc07e89",
   "metadata": {},
   "outputs": [],
   "source": [
    "import numpy as np\n",
    "import matplotlib.pyplot as plt\n",
    "from scipy.integrate import quad\n",
    "from scipy.stats import norm\n",
    "import torch"
   ]
  },
  {
   "cell_type": "markdown",
   "id": "56e1d955-1bac-456d-9da5-141a1a3e18ef",
   "metadata": {},
   "source": [
    "Generate the samples from truth\n",
    "\n",
    "For now we use: \n",
    "B_0 = 0,\n",
    "A_0 = 0,\n",
    "var = 1\n",
    "and seed 508"
   ]
  },
  {
   "cell_type": "code",
   "execution_count": 2,
   "id": "2fee8e82-048b-4052-81a8-47a0895b9e10",
   "metadata": {},
   "outputs": [
    {
     "name": "stdout",
     "output_type": "stream",
     "text": [
      "Enter the parameters for the truth.\n",
      "B_0 =\n"
     ]
    },
    {
     "name": "stdin",
     "output_type": "stream",
     "text": [
      " 0\n"
     ]
    },
    {
     "name": "stdout",
     "output_type": "stream",
     "text": [
      "A_0 =\n"
     ]
    },
    {
     "name": "stdin",
     "output_type": "stream",
     "text": [
      " 0\n"
     ]
    },
    {
     "name": "stdout",
     "output_type": "stream",
     "text": [
      "var =\n"
     ]
    },
    {
     "name": "stdin",
     "output_type": "stream",
     "text": [
      " 1\n"
     ]
    },
    {
     "name": "stdout",
     "output_type": "stream",
     "text": [
      "Enter the random seed: "
     ]
    },
    {
     "name": "stdin",
     "output_type": "stream",
     "text": [
      " 508\n"
     ]
    }
   ],
   "source": [
    "print('Enter the parameters for the truth.')\n",
    "print('B_0 =')\n",
    "B_0 = float(input())\n",
    "print('A_0 =')\n",
    "A_0 = float(input())\n",
    "print('var =')\n",
    "var = float(input())\n",
    "\n",
    "print('Enter the random seed: ', end='')\n",
    "np.random.seed(int(input()))\n",
    "\n",
    "S=np.random.normal(B_0,A_0*A_0+var,500)"
   ]
  },
  {
   "cell_type": "markdown",
   "id": "216be5bc-c6ec-4511-8d50-15707e59bf1a",
   "metadata": {},
   "source": [
    "Define p(x|z) and q(z|x)"
   ]
  },
  {
   "cell_type": "code",
   "execution_count": 3,
   "id": "07c0f2ed-5ece-407d-b9f4-5e27c7906ad3",
   "metadata": {},
   "outputs": [],
   "source": [
    "def p_dist(S,z,A,B):\n",
    "    prob = [norm.pdf(x,A*z+B,1) for x in S]\n",
    "    return np.prod(prob)\n",
    "\n",
    "def q_dist(z,S,C,D):\n",
    "    prob = [norm.pdf(z,C*x+D,1) for x in S]\n",
    "    return np.prod(prob)"
   ]
  },
  {
   "cell_type": "markdown",
   "id": "e8acedb1-b7cd-472a-881a-0b97a972b40d",
   "metadata": {},
   "source": [
    "Define E_{q(z|x)}(p(x|z))"
   ]
  },
  {
   "cell_type": "code",
   "execution_count": 13,
   "id": "e84ac98d-c297-42c0-b526-a7679e8ceb37",
   "metadata": {},
   "outputs": [],
   "source": [
    "def E_q(A,B,C,D,S):\n",
    "    def formula(z):\n",
    "        if p_dist(S,z,A,B)==0:\n",
    "            return 0\n",
    "        else:\n",
    "            return np.log(p_dist(S,z,A,B))*q_dist(z,S,C,D)\n",
    "\n",
    "    return quad(formula,-np.inf,np.inf)[0];"
   ]
  },
  {
   "cell_type": "markdown",
   "id": "0540b07c-c189-4a98-a9fd-db80055cbd74",
   "metadata": {},
   "source": [
    "Define the kl divergence, KL( q(z|x) || p(z) )"
   ]
  },
  {
   "cell_type": "code",
   "execution_count": null,
   "id": "058fd7f0-f22e-456b-babb-b728ced96459",
   "metadata": {},
   "outputs": [],
   "source": [
    "def kl_divergence(self, z, mu, std):\n",
    "    # --------------------------\n",
    "    # Monte carlo KL divergence\n",
    "    # --------------------------\n",
    "    # 1. define the first two probabilities (in this case Normal for both)\n",
    "    p = torch.distributions.Normal(torch.zeros_like(mu), torch.ones_like(std))\n",
    "    q = torch.distributions.Normal(mu, std)\n",
    "\n",
    "    # 2. get the probabilities from the equation\n",
    "    log_qzx = q.log_prob(z)\n",
    "    log_pz = p.log_prob(z)\n",
    "\n",
    "    # kl\n",
    "    kl = (log_qzx - log_pz)\n",
    "    \n",
    "    # sum over last dim to go from single dim distribution to multi-dim\n",
    "    kl = kl.sum(-1)\n",
    "    return kl"
   ]
  },
  {
   "cell_type": "code",
   "execution_count": 5,
   "id": "570cd4cb-5548-4327-9da3-3a8d0be10f02",
   "metadata": {},
   "outputs": [],
   "source": [
    "def kl_divergence(A,B,C,D,S):\n",
    "    def formula(z):\n",
    "        if (norm.pdf(z)==0 or q_dist(z,S,C,D)==0):\n",
    "            return 0\n",
    "        else:\n",
    "            return q_dist(z,S,C,D)*np.log(q_dist(z,S,C,D)/norm.pdf(z,0,1))\n",
    "\n",
    "    return quad(formula,-np.inf,np.inf)[0]"
   ]
  },
  {
   "cell_type": "markdown",
   "id": "c742f724-3885-4637-8ff6-556552c3e010",
   "metadata": {},
   "source": [
    "Define the ELBO"
   ]
  },
  {
   "cell_type": "code",
   "execution_count": 6,
   "id": "604ff310-bb4c-4b73-b445-ee9c58c059a6",
   "metadata": {},
   "outputs": [],
   "source": [
    "def L(A,B,C,D,S):\n",
    "    return E_q(A,B,C,D,S) - kl_divergence(A,B,C,D,S)"
   ]
  },
  {
   "cell_type": "code",
   "execution_count": 20,
   "id": "2288e4a5-e08e-4f19-a5a0-7e3a37e80ca1",
   "metadata": {},
   "outputs": [
    {
     "name": "stdout",
     "output_type": "stream",
     "text": [
      "-19.41893853320468\n",
      "-27.41893853320468\n",
      "0.0\n"
     ]
    }
   ],
   "source": [
    "print(E_q(1,2,3,4,[0]))\n",
    "print(L(1,2,3,4,[0]))\n",
    "print(q_dist(0,S,3,4))"
   ]
  }
 ],
 "metadata": {
  "kernelspec": {
   "display_name": "Python 3 (ipykernel)",
   "language": "python",
   "name": "python3"
  },
  "language_info": {
   "codemirror_mode": {
    "name": "ipython",
    "version": 3
   },
   "file_extension": ".py",
   "mimetype": "text/x-python",
   "name": "python",
   "nbconvert_exporter": "python",
   "pygments_lexer": "ipython3",
   "version": "3.9.0"
  }
 },
 "nbformat": 4,
 "nbformat_minor": 5
}
