{
 "cells": [
  {
   "cell_type": "markdown",
   "id": "439d7cfd-b910-4731-a6bc-cb211c74328a",
   "metadata": {},
   "source": [
    "Libraries used"
   ]
  },
  {
   "cell_type": "code",
   "execution_count": 1,
   "id": "b1641933-dc0b-4ab5-ad02-142dacf0fee3",
   "metadata": {},
   "outputs": [],
   "source": [
    "import numpy as np\n",
    "from scipy.stats import norm\n",
    "from scipy.integrate import quad\n",
    "from matplotlib import pyplot as plt"
   ]
  },
  {
   "cell_type": "markdown",
   "id": "1a60312a-25b6-42fd-9228-34835c1168e6",
   "metadata": {},
   "source": [
    "Old implementation of KL divergence"
   ]
  },
  {
   "cell_type": "code",
   "execution_count": 15,
   "id": "4f6db61a-ba5c-44f0-8347-9033885a5619",
   "metadata": {},
   "outputs": [],
   "source": [
    "def kl_divergence(q,p,A,B,C,D):\n",
    "\tdef formula(x):\n",
    "\t\treturn q(x,C,D)*np.log(p(x,A,B)/q(x,C,D)) #try return zero if got weird value\n",
    "\n",
    "\treturn -1*quad(formula,-np.inf,np.inf)[0]\n"
   ]
  },
  {
   "cell_type": "markdown",
   "id": "54c0de76-9acc-4d04-9370-83b07ca75d99",
   "metadata": {},
   "source": [
    "New implementation of KL divergence to avoid potential calculation exception"
   ]
  },
  {
   "cell_type": "code",
   "execution_count": 2,
   "id": "16299c56-66b1-48ba-960c-b33156e20db2",
   "metadata": {},
   "outputs": [],
   "source": [
    "def kl_alternate(q,p,A,B,C,D):\n",
    "\tdef formula(x):\n",
    "\t\tif (p(x,A,B)==0 or q(x,C,D)==0):\n",
    "\t\t\treturn 0\n",
    "\t\telse:\n",
    "\t\t\treturn q(x,C,D)*np.log(q(x,C,D)/p(x,A,B))\n",
    "\n",
    "\treturn quad(formula,-np.inf,np.inf)"
   ]
  },
  {
   "cell_type": "markdown",
   "id": "c6e986f4-7e75-4007-aefc-d5f748853d25",
   "metadata": {},
   "source": [
    "The theoretical KL divergence for normal distributions"
   ]
  },
  {
   "cell_type": "code",
   "execution_count": 3,
   "id": "09a04f67-148d-469d-a341-e0c474bf9bdb",
   "metadata": {},
   "outputs": [],
   "source": [
    "def kl_theory(mean1,var1,mean2,var2):\n",
    "    return np.log(np.sqrt(var2/var1))+(var1+(mean1-mean2)*(mean1-mean2))/(2*var2)-0.5"
   ]
  },
  {
   "cell_type": "markdown",
   "id": "0b48b786-5df5-4ab4-a888-29827927095e",
   "metadata": {},
   "source": [
    "Example pdf (note norm.pdf(x,mean,SD) not norm.pdf(x,mean,var)"
   ]
  },
  {
   "cell_type": "code",
   "execution_count": 10,
   "id": "df499553-7a79-4c58-85cb-17120005f398",
   "metadata": {},
   "outputs": [],
   "source": [
    "def p(x,A,B):\n",
    "\treturn norm.pdf(x,A,np.sqrt(B))\n"
   ]
  },
  {
   "cell_type": "code",
   "execution_count": 11,
   "id": "276fbf70-5171-45a6-b21d-6c26ebb12e3c",
   "metadata": {},
   "outputs": [],
   "source": [
    "def q(x,C,D):\n",
    "\treturn norm.pdf(x,C,np.sqrt(D))"
   ]
  },
  {
   "cell_type": "markdown",
   "id": "e8c1924c-efd5-4694-8e4c-7d2722fb84d9",
   "metadata": {},
   "source": [
    "Testing code"
   ]
  },
  {
   "cell_type": "code",
   "execution_count": 13,
   "id": "8e575386-e460-415a-bf34-b3e396cb9e4b",
   "metadata": {},
   "outputs": [
    {
     "name": "stdout",
     "output_type": "stream",
     "text": [
      "(25.153426409720023, 2.1881011364450575e-07)\n",
      "25.153426409720026\n"
     ]
    }
   ],
   "source": [
    "# print('%1.3f' %kl_divergence(q,p,0,2,2,2))\n",
    "# print('%1.3f' %kl_divergence(q,p,0,2,5,4))"
   ]
  }
 ],
 "metadata": {
  "kernelspec": {
   "display_name": "Python 3 (ipykernel)",
   "language": "python",
   "name": "python3"
  },
  "language_info": {
   "codemirror_mode": {
    "name": "ipython",
    "version": 3
   },
   "file_extension": ".py",
   "mimetype": "text/x-python",
   "name": "python",
   "nbconvert_exporter": "python",
   "pygments_lexer": "ipython3",
   "version": "3.9.0"
  }
 },
 "nbformat": 4,
 "nbformat_minor": 5
}
